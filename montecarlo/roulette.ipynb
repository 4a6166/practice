{
 "cells": [
  {
   "cell_type": "markdown",
   "id": "1e6bed74-b549-4087-9d1c-a5b2953a91b5",
   "metadata": {
    "tags": []
   },
   "source": [
    "---\n",
    "title: \"Monte Carlo Simulations for Monte Carlo Games\"\n",
    "date: 2023-04-21T12:47:26-04:00\n",
    "draft: false\n",
    "tags:\n",
    "- \"monte carlo\"\n",
    "summary: \"A Neovim GUI colorscheme with blocky highlighting\"\n",
    "---"
   ]
  },
  {
   "cell_type": "markdown",
   "id": "54cfd50a-9e89-4227-97cd-d006da8fd00e",
   "metadata": {},
   "source": [
    "This article is an attempt to use the Monte Carlo method to simulate a game of roulette. \n",
    "The method was inspired by a roulette table at the famous casino, so it seemed fitting to apply the simulation to its muse. Random numbers are generated with the help of `numpy` and the dataframe is provided by `pandas`."
   ]
  },
  {
   "cell_type": "markdown",
   "id": "0195f639-ccf8-4c5d-855c-58425ff5a114",
   "metadata": {},
   "source": [
    "__NOTE:__ In its current state, the simulation only accounts for single bets. The payout chart is listed but not in an implementable way."
   ]
  },
  {
   "cell_type": "code",
   "execution_count": 1,
   "id": "df8ed032-b4bf-45ad-b1ec-de862ecca90c",
   "metadata": {
    "tags": []
   },
   "outputs": [],
   "source": [
    "import numpy as np\n",
    "import pandas as pd"
   ]
  },
  {
   "cell_type": "markdown",
   "id": "79d3f7dd-135c-464a-9546-911f52c7cd51",
   "metadata": {},
   "source": [
    "After the required imports, we should first define the wheels.\n",
    "Below they are set for each of the three popular roulette games: \n",
    "the French (or European) version,\n",
    "the version you'll find in American casinos,\n",
    "and the triple zero wheel used by Sands."
   ]
  },
  {
   "cell_type": "code",
   "execution_count": 2,
   "id": "0e836eb6-4064-4f71-af67-6c9788cc02c7",
   "metadata": {
    "tags": []
   },
   "outputs": [],
   "source": [
    "frenchWheel = ['0', '32', '15', '19', '4', '23', '2', '25', '17', '34', '6', '27', '13', '36', '11', '30', '8', '23', '10', '5', '24', '16', '33', '1', '20', '14', '31', '9', '22', '18', '29', '7', '28', '12', '35', '3', '26']\n",
    "americanWheel = ['0', '28', '9', '26', '30', '11', '7', '20', '32', '17', '5', '22', '34', '15', '3', '24', '36', '13', '1', '00', '27', '10', '25', '29', '12', '8', '19', '31', '18', '6', '21', '33', '16', '4', '23', '35', '14', '2']\n",
    "sandsWheel = ['0', '000', '00', '32', '15', '19', '4', '21', '2', '25', '17', '34', '6', '27', '13', '36', '11', '30', '8', '23', '10', '5', '24', '16', '33', '1', '20', '14', '31', '9', '22', '18', '29', '7', '28', '12', '35', '3', '26']"
   ]
  },
  {
   "cell_type": "markdown",
   "id": "975adcbc-1e8a-4a9f-a438-ace680233a7b",
   "metadata": {},
   "source": [
    "Also below are the definition of payouts for winning various types of bets on each wheel, but this is not yet implemented."
   ]
  },
  {
   "cell_type": "code",
   "execution_count": 3,
   "id": "73cc9252-34d0-4474-8746-de8b4f6c290e",
   "metadata": {
    "jupyter": {
     "source_hidden": true
    },
    "tags": []
   },
   "outputs": [],
   "source": [
    "# If a player hits on a single in an American game, that player wins 35 times the bet\n",
    "\n",
    "payouts = [  # Bet, Winning Spaces, Payout Multiplier (winnings = wager + wager*multiplier), Game Type\n",
    "           ('0', ['0'], 35, 'All'),\n",
    "           ('00', ['00'], 35, 'American'),\n",
    "           ('000', ['000'], 35, 'Sands'),  # TODO: Check value\n",
    "           ('Straight', ['1..36'], 35, 'All'),\n",
    "           # Inside\n",
    "           ('Row', ['0', '00'], 17, 'American'),\n",
    "           ('Split', ['two adjoining numbers'], 17, 'All'),\n",
    "           ('Street', ['3 horizontal numbers'], 11, 'All'),\n",
    "           ('Square', ['4 numbers in a block'], 8, 'All'),\n",
    "           ('Basket-Fr', ['0', '1', '2', '3'], 8, 'French'),\n",
    "           ('Basket-Am', ['0', '00', '1', '2', '3'], 6, 'American'),\n",
    "           ('Double Street', ['2 rows or 3 numbers'], 5, 'All'),\n",
    "           # Outside\n",
    "           ('Column', ['Every third number (1,4,7...)'], 2, 'All'),\n",
    "           ('Dozen', ['12 continuous numbers (1-12, 13-24, 25-36)'], 2, 'All'),\n",
    "           ('Snake', [1, 5, 9, 12, 14, 16, 19, 23, 27, 30, 32, 34], 2, \"All\"),\n",
    "           ('Impiar (Odd)', ['1, 3, 5 ...35'], 1, 'All'),\n",
    "           ('Pair (Even)', ['2, 4, 6 ...36'], 1, 'All'),\n",
    "           ('Red', [32, 19, 21, 25, 34, 27, 36, 30, 23, 5, 16, 1, 14, 9, 18, 7, 12, 3], 1, \"All\"),\n",
    "           ('Black', [15, 4, 2, 17, 6, 13, 11, 8, 10, 24, 33, 20, 31, 22, 29, 28, 35, 26], 1, \"All\"),\n",
    "           ('Manque (Low)', ['1-18'], 1, \"All\"),\n",
    "           ('Passe (High)', ['19-36'], 1, \"All\"),\n",
    "           ]  # TODO: break Winning Spaces into usable field\n"
   ]
  },
  {
   "cell_type": "markdown",
   "id": "a44743c0-20e9-4966-a694-bacc14508adf",
   "metadata": {},
   "source": [
    "Then we should define the rules of the game. In all roulette variations, the croupier spins the wheel in one direction and sends the ball around the outside track going the opposite way.\n",
    "This creates randomness in which pocket the ball will finally come to rest. \n",
    "We simulate this by choosing a randome pocket on the wheel when the `spin()` method is applied.\n",
    "Breaking out this into a callable method allows us to simulate multiple plays when we actually begin the simulation.\n",
    "\n",
    "To simulate the playing of various games, we'll create a base class and three variations that pull in different wheels."
   ]
  },
  {
   "cell_type": "code",
   "execution_count": 4,
   "id": "f5206bbe-a908-46b8-af09-3b5363d8d850",
   "metadata": {
    "tags": []
   },
   "outputs": [],
   "source": [
    "class RouletteGame():\n",
    "    def __init__(self):\n",
    "        self.pockets = ['0', '1']  # French 37, American 38, Sands 39\n",
    "        # self.pockets = americanWheel\n",
    "        self.hitPocket = None\n",
    "        self.possibleBets = []  # TODO: Set to accept other bets, only accepts Single bets currently\n",
    "\n",
    "    def spin(self):\n",
    "        self.hitPocket = np.random.choice(self.pockets)\n",
    "\n",
    "    def getResult(self, bet, wager):\n",
    "        if str(bet) == str(self.hitPocket):  # TODO: only set up for single bets right now\n",
    "            # return wager * 35\n",
    "            return wager * (35 + 1)\n",
    "        return bet * -1\n",
    "\n",
    "    def __str__(self):\n",
    "        return 'Base Game'\n",
    "\n",
    "\n",
    "class FrenchRoulette(RouletteGame):\n",
    "    def __init__(self):\n",
    "        self.pockets = frenchWheel\n",
    "\n",
    "    def __str__(self):\n",
    "        return 'French Roulette'\n",
    "\n",
    "\n",
    "class AmericanRoulette(RouletteGame):\n",
    "    def __init__(self):\n",
    "        self.pockets = americanWheel\n",
    "\n",
    "    def __str__(self):\n",
    "        return 'American Roulette'\n",
    "\n",
    "\n",
    "class SandsRoulette(RouletteGame):\n",
    "    def __init__(self):\n",
    "        self.pockets = sandsWheel\n",
    "\n",
    "    def __str__(self):\n",
    "        return 'Sands Roulette'"
   ]
  },
  {
   "cell_type": "markdown",
   "id": "4c23884e-ac8a-4c17-bb1b-2b96ff7c6401",
   "metadata": {},
   "source": [
    "What's left is to create a method to actually play the game.\n",
    "Here we take in the player choices of the type of game (game: French, American, or Sands), the number of times it will be simulated (plays), the pocket that will win if the ball lands in it (bet), and the amount of money to be lost if it doesn't. We'll play the game and capture the total amount won or lost in the `totalWinnings` variable. We'll then frame up some results with `pandas` and return them."
   ]
  },
  {
   "cell_type": "code",
   "execution_count": 5,
   "id": "e059a9ab-153d-4a37-ba50-72aa00858c91",
   "metadata": {
    "tags": []
   },
   "outputs": [],
   "source": [
    "def playGame(game, plays, bet, wager):\n",
    "    totalWinnings = 0\n",
    "    for i in range(plays):\n",
    "        game.spin()\n",
    "        totalWinnings += game.getResult(bet, wager)\n",
    "    df = pd.DataFrame({\n",
    "                'Game':[game.__str__()],\n",
    "                'Plays':[plays],\n",
    "                'Bet':[bet],\n",
    "                'Wager':[wager],\n",
    "                'Total Wagered':[wager*plays],\n",
    "                'Winnings':[totalWinnings - wager*plays],\n",
    "                '% Winnings':[(totalWinnings - wager*plays)/(wager*plays) * 100],\n",
    "                'Take Home':[totalWinnings],\n",
    "                '% of Wagered':[totalWinnings/(wager*plays) * 100]\n",
    "            })\n",
    "\n",
    "    return df"
   ]
  },
  {
   "cell_type": "markdown",
   "id": "6d75d150-4a9c-4737-9d81-152b753f7ba3",
   "metadata": {},
   "source": [
    "Now we begin the simulation. "
   ]
  },
  {
   "cell_type": "code",
   "execution_count": 6,
   "id": "ad0b6836-9bc3-4fb7-ba64-8b90712f1737",
   "metadata": {
    "tags": []
   },
   "outputs": [],
   "source": [
    "game1 = playGame(\n",
    "    FrenchRoulette(),\n",
    "    100_000,  # Plays\n",
    "    1,  # Number bet on\n",
    "    10   # Amount wagered per play\n",
    "    )"
   ]
  },
  {
   "cell_type": "markdown",
   "id": "6fb24371-9fe0-4543-8c13-8018c466b035",
   "metadata": {},
   "source": [
    "The result was put in a variable so I could adjust the formatting of the results for clarity.\n",
    "As you can see, the payout for a single bet being 35:1 does give the edge to the casino on wheels that have 37 (including 0) pockets."
   ]
  },
  {
   "cell_type": "code",
   "execution_count": 7,
   "id": "e38b0090-e053-4f95-94d4-1e587693fb5f",
   "metadata": {
    "tags": []
   },
   "outputs": [
    {
     "data": {
      "text/html": [
       "<style type=\"text/css\">\n",
       "</style>\n",
       "<table id=\"T_9b846\">\n",
       "  <thead>\n",
       "    <tr>\n",
       "      <th class=\"blank level0\" >&nbsp;</th>\n",
       "      <th id=\"T_9b846_level0_col0\" class=\"col_heading level0 col0\" >Game</th>\n",
       "      <th id=\"T_9b846_level0_col1\" class=\"col_heading level0 col1\" >Plays</th>\n",
       "      <th id=\"T_9b846_level0_col2\" class=\"col_heading level0 col2\" >Bet</th>\n",
       "      <th id=\"T_9b846_level0_col3\" class=\"col_heading level0 col3\" >Wager</th>\n",
       "      <th id=\"T_9b846_level0_col4\" class=\"col_heading level0 col4\" >Total Wagered</th>\n",
       "      <th id=\"T_9b846_level0_col5\" class=\"col_heading level0 col5\" >Winnings</th>\n",
       "      <th id=\"T_9b846_level0_col6\" class=\"col_heading level0 col6\" >% Winnings</th>\n",
       "      <th id=\"T_9b846_level0_col7\" class=\"col_heading level0 col7\" >Take Home</th>\n",
       "      <th id=\"T_9b846_level0_col8\" class=\"col_heading level0 col8\" >% of Wagered</th>\n",
       "    </tr>\n",
       "  </thead>\n",
       "  <tbody>\n",
       "    <tr>\n",
       "      <th id=\"T_9b846_level0_row0\" class=\"row_heading level0 row0\" >0</th>\n",
       "      <td id=\"T_9b846_row0_col0\" class=\"data row0 col0\" >French Roulette</td>\n",
       "      <td id=\"T_9b846_row0_col1\" class=\"data row0 col1\" >100,000</td>\n",
       "      <td id=\"T_9b846_row0_col2\" class=\"data row0 col2\" >1</td>\n",
       "      <td id=\"T_9b846_row0_col3\" class=\"data row0 col3\" >$10</td>\n",
       "      <td id=\"T_9b846_row0_col4\" class=\"data row0 col4\" >$1,000,000</td>\n",
       "      <td id=\"T_9b846_row0_col5\" class=\"data row0 col5\" >$-111,221</td>\n",
       "      <td id=\"T_9b846_row0_col6\" class=\"data row0 col6\" >-11.12%</td>\n",
       "      <td id=\"T_9b846_row0_col7\" class=\"data row0 col7\" >$888,779</td>\n",
       "      <td id=\"T_9b846_row0_col8\" class=\"data row0 col8\" >88.88%</td>\n",
       "    </tr>\n",
       "  </tbody>\n",
       "</table>\n"
      ],
      "text/plain": [
       "<pandas.io.formats.style.Styler at 0x125085190>"
      ]
     },
     "execution_count": 7,
     "metadata": {},
     "output_type": "execute_result"
    }
   ],
   "source": [
    "game1.style.format({\n",
    "    'Plays': '{:,}',\n",
    "    'Bet': lambda x:str(x).lower(),\n",
    "    'Wager': '${:,.0f}',\n",
    "    'Total Wagered': '${:,.0f}',\n",
    "    'Winnings': '${:,.0f}',\n",
    "    '% Winnings': '{:0.2f}%',\n",
    "    'Take Home': '${:,.0f}',\n",
    "    '% of Wagered': '{:.2f}%'\n",
    "})"
   ]
  },
  {
   "cell_type": "markdown",
   "id": "ae97f2e2-56fb-4bc0-b336-f2d136206948",
   "metadata": {},
   "source": [
    "Here are two more using the American and Sands tables.\n",
    "They are condensed and printed vertically without the numbers formatted."
   ]
  },
  {
   "cell_type": "code",
   "execution_count": 8,
   "id": "be6f6904-8417-4fb8-b61a-1e5dc0a6ca6f",
   "metadata": {},
   "outputs": [
    {
     "name": "stdout",
     "output_type": "stream",
     "text": [
      "                               0\n",
      "Game           American Roulette\n",
      "Plays                     100000\n",
      "Bet                            1\n",
      "Wager                         10\n",
      "Total Wagered            1000000\n",
      "Winnings                 -172591\n",
      "% Winnings              -17.2591\n",
      "Take Home                 827409\n",
      "% of Wagered             82.7409\n"
     ]
    }
   ],
   "source": [
    "print(playGame(\n",
    "    AmericanRoulette(),\n",
    "    100_000,  # Plays\n",
    "    1,  # Number bet on\n",
    "    10   # Amount wagered per play\n",
    "    ).transpose()\n",
    "  )"
   ]
  },
  {
   "cell_type": "code",
   "execution_count": 9,
   "id": "9ff49515-6aab-4ccb-be90-f5ad97603df1",
   "metadata": {
    "tags": []
   },
   "outputs": [
    {
     "name": "stdout",
     "output_type": "stream",
     "text": [
      "                            0\n",
      "Game           Sands Roulette\n",
      "Plays                  100000\n",
      "Bet                         1\n",
      "Wager                      10\n",
      "Total Wagered         1000000\n",
      "Winnings              -181977\n",
      "% Winnings           -18.1977\n",
      "Take Home              818023\n",
      "% of Wagered          81.8023\n"
     ]
    }
   ],
   "source": [
    "print(playGame(\n",
    "    SandsRoulette(),\n",
    "    100_000,  # Plays\n",
    "    1,  # Number bet on\n",
    "    10   # Amount wagered per play\n",
    "    ).transpose()\n",
    "  )"
   ]
  }
 ],
 "metadata": {
  "kernelspec": {
   "display_name": "Python 3 (ipykernel)",
   "language": "python",
   "name": "python3"
  },
  "language_info": {
   "codemirror_mode": {
    "name": "ipython",
    "version": 3
   },
   "file_extension": ".py",
   "mimetype": "text/x-python",
   "name": "python",
   "nbconvert_exporter": "python",
   "pygments_lexer": "ipython3",
   "version": "3.11.3"
  }
 },
 "nbformat": 4,
 "nbformat_minor": 5
}
