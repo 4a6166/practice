{
 "cells": [
  {
   "cell_type": "code",
   "execution_count": 17,
   "id": "0b9eda6f-c790-4bf0-aab1-e52ac53a1aea",
   "metadata": {
    "tags": []
   },
   "outputs": [],
   "source": [
    "import pandas as pd"
   ]
  },
  {
   "cell_type": "code",
   "execution_count": 18,
   "id": "83d5f04d-2d9d-4700-86f1-c35779d04c83",
   "metadata": {
    "tags": []
   },
   "outputs": [
    {
     "name": "stdout",
     "output_type": "stream",
     "text": [
      "2.0.0\n"
     ]
    }
   ],
   "source": [
    "print(pd.__version__)"
   ]
  },
  {
   "cell_type": "code",
   "execution_count": 22,
   "id": "475f843d-b6a5-4d18-87eb-3309ec18ffbb",
   "metadata": {
    "tags": []
   },
   "outputs": [],
   "source": [
    "data = [['tom', 10], ['nick', 15], ['juli', 14]]\n",
    "\n",
    "df = pd.DataFrame(data, columns=['Name', 'Age'])"
   ]
  },
  {
   "cell_type": "code",
   "execution_count": 32,
   "id": "f470fb91-c589-4336-9a0a-704d84c1305b",
   "metadata": {
    "tags": []
   },
   "outputs": [
    {
     "data": {
      "text/html": [
       "<style type=\"text/css\">\n",
       "</style>\n",
       "<table id=\"T_b10ae\">\n",
       "  <thead>\n",
       "    <tr>\n",
       "      <th class=\"blank level0\" >&nbsp;</th>\n",
       "      <th id=\"T_b10ae_level0_col0\" class=\"col_heading level0 col0\" >Name</th>\n",
       "      <th id=\"T_b10ae_level0_col1\" class=\"col_heading level0 col1\" >Age</th>\n",
       "    </tr>\n",
       "  </thead>\n",
       "  <tbody>\n",
       "    <tr>\n",
       "      <th id=\"T_b10ae_level0_row0\" class=\"row_heading level0 row0\" >0</th>\n",
       "      <td id=\"T_b10ae_row0_col0\" class=\"data row0 col0\" >tom</td>\n",
       "      <td id=\"T_b10ae_row0_col1\" class=\"data row0 col1\" >$10</td>\n",
       "    </tr>\n",
       "    <tr>\n",
       "      <th id=\"T_b10ae_level0_row1\" class=\"row_heading level0 row1\" >1</th>\n",
       "      <td id=\"T_b10ae_row1_col0\" class=\"data row1 col0\" >nick</td>\n",
       "      <td id=\"T_b10ae_row1_col1\" class=\"data row1 col1\" >$15</td>\n",
       "    </tr>\n",
       "    <tr>\n",
       "      <th id=\"T_b10ae_level0_row2\" class=\"row_heading level0 row2\" >2</th>\n",
       "      <td id=\"T_b10ae_row2_col0\" class=\"data row2 col0\" >juli</td>\n",
       "      <td id=\"T_b10ae_row2_col1\" class=\"data row2 col1\" >$14</td>\n",
       "    </tr>\n",
       "  </tbody>\n",
       "</table>\n"
      ],
      "text/plain": [
       "<pandas.io.formats.style.Styler at 0x162410290>"
      ]
     },
     "execution_count": 32,
     "metadata": {},
     "output_type": "execute_result"
    }
   ],
   "source": [
    "df.style.format({\"Age\": '${:.0f}'})"
   ]
  },
  {
   "cell_type": "markdown",
   "id": "9e9352c4-36b0-438b-95fd-84d8728c2c7b",
   "metadata": {},
   "source": [
    "__NOTE:__ `style.format` works as an HTML formatter. It will not print out pretty to console.\n",
    "It will also not print out if `.transpose()` is called.\n",
    "It only works on columns, so if a row-specific format is required, the column must be formatted with conditional statements like `if`."
   ]
  },
  {
   "cell_type": "code",
   "execution_count": null,
   "id": "09789e63-285a-4b7f-8a96-9784e346ec5d",
   "metadata": {},
   "outputs": [],
   "source": []
  }
 ],
 "metadata": {
  "kernelspec": {
   "display_name": "Python 3 (ipykernel)",
   "language": "python",
   "name": "python3"
  },
  "language_info": {
   "codemirror_mode": {
    "name": "ipython",
    "version": 3
   },
   "file_extension": ".py",
   "mimetype": "text/x-python",
   "name": "python",
   "nbconvert_exporter": "python",
   "pygments_lexer": "ipython3",
   "version": "3.11.3"
  }
 },
 "nbformat": 4,
 "nbformat_minor": 5
}
